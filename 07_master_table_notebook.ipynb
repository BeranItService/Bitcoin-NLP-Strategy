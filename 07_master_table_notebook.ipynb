{
 "cells": [
  {
   "cell_type": "markdown",
   "metadata": {},
   "source": [
    "# Master table creation\n",
    "In this notebook we aggregate all the previously downloaded data and the sentiment analysis done on the different data sources."
   ]
  },
  {
   "cell_type": "code",
   "execution_count": 1,
   "metadata": {
    "collapsed": true
   },
   "outputs": [],
   "source": [
    "# Load the needed packages:\n",
    "import sys\n",
    "import numpy as np\n",
    "import pandas as pd\n",
    "import matplotlib.pyplot as plt\n",
    "import datetime\n",
    "%matplotlib inline"
   ]
  },
  {
   "cell_type": "markdown",
   "metadata": {},
   "source": [
    "## 1.0 Load data and create a Mastertable"
   ]
  },
  {
   "cell_type": "code",
   "execution_count": 2,
   "metadata": {
    "collapsed": true
   },
   "outputs": [],
   "source": [
    "# Load CSV files:\n",
    "poloniex = pd.read_csv(\"Data/poloniex_data.csv\")\n",
    "ggtrends = pd.read_csv(\"Data/google_trends.csv\", index_col=0)\n",
    "twitter = pd.read_csv(\"Data/twitter_agg_ddb.csv\")\n",
    "reddit = pd.read_csv(\"Data/allreddit_nlp.csv\", index_col=0)\n",
    "forum = pd.read_csv(\"Data/merit_compound.csv\", index_col=0)"
   ]
  },
  {
   "cell_type": "code",
   "execution_count": 3,
   "metadata": {
    "collapsed": true
   },
   "outputs": [],
   "source": [
    "# A bit of preprocessing:\n",
    "# REDDIT:\n",
    "reddit = reddit.rename(columns={'date_notime': 'date', 'count_comments': 'Reddit Comments (#)', 'mean_sa': 'Reddit Average SA'})\n",
    "# TWITTER:\n",
    "twitter = twitter.rename(columns={'created_at': 'date','Average SA': 'Twitter Average SA'})\n",
    "twitter['date'] =  pd.to_datetime(twitter['date'], format='%Y%m%d %H:%M:%S')\n",
    "twitter['date'] = twitter['date'].dt.date\n",
    "twitter['date'] = twitter['date'].apply(str)\n",
    "\n",
    "# FORUM:\n",
    "forum = forum.rename(columns={'newdate': 'date', 'compound': 'Forum SA Merit', 'merit_compound': 'Forum SA Merit (weighted)'})"
   ]
  },
  {
   "cell_type": "code",
   "execution_count": 4,
   "metadata": {
    "collapsed": true
   },
   "outputs": [],
   "source": [
    "# Merge the datasets into one Master Table:\n",
    "master = pd.merge(poloniex, ggtrends, how = 'inner', on = 'date')\n",
    "master = pd.merge(master, twitter, how = 'outer', on = 'date')\n",
    "master = pd.merge(master, forum, how = 'inner', on = 'date')\n",
    "master = pd.merge(master, reddit, how = 'inner', on = 'date')"
   ]
  },
  {
   "cell_type": "code",
   "execution_count": 5,
   "metadata": {
    "collapsed": true
   },
   "outputs": [],
   "source": [
    "# Create the UP/DOWN class:\n",
    "master['invest'] = master['return_day+1']>0"
   ]
  },
  {
   "cell_type": "code",
   "execution_count": 6,
   "metadata": {},
   "outputs": [],
   "source": [
    "pd.DataFrame.to_csv(master, 'Data/20180920_mastertable.csv')"
   ]
  },
  {
   "cell_type": "code",
   "execution_count": 9,
   "metadata": {},
   "outputs": [
    {
     "data": {
      "text/html": [
       "<div>\n",
       "<style>\n",
       "    .dataframe thead tr:only-child th {\n",
       "        text-align: right;\n",
       "    }\n",
       "\n",
       "    .dataframe thead th {\n",
       "        text-align: left;\n",
       "    }\n",
       "\n",
       "    .dataframe tbody tr th {\n",
       "        vertical-align: top;\n",
       "    }\n",
       "</style>\n",
       "<table border=\"1\" class=\"dataframe\">\n",
       "  <thead>\n",
       "    <tr style=\"text-align: right;\">\n",
       "      <th></th>\n",
       "      <th>date</th>\n",
       "      <th>Tweets (#)</th>\n",
       "      <th>Active Influencers (#)</th>\n",
       "      <th>Twitter Average SA</th>\n",
       "    </tr>\n",
       "  </thead>\n",
       "  <tbody>\n",
       "    <tr>\n",
       "      <th>0</th>\n",
       "      <td>2017-05-02</td>\n",
       "      <td>105</td>\n",
       "      <td>25</td>\n",
       "      <td>0.156365</td>\n",
       "    </tr>\n",
       "    <tr>\n",
       "      <th>1</th>\n",
       "      <td>2017-05-03</td>\n",
       "      <td>86</td>\n",
       "      <td>30</td>\n",
       "      <td>0.207976</td>\n",
       "    </tr>\n",
       "    <tr>\n",
       "      <th>2</th>\n",
       "      <td>2017-05-04</td>\n",
       "      <td>111</td>\n",
       "      <td>27</td>\n",
       "      <td>0.152614</td>\n",
       "    </tr>\n",
       "    <tr>\n",
       "      <th>3</th>\n",
       "      <td>2017-05-05</td>\n",
       "      <td>75</td>\n",
       "      <td>28</td>\n",
       "      <td>0.117646</td>\n",
       "    </tr>\n",
       "    <tr>\n",
       "      <th>4</th>\n",
       "      <td>2017-05-06</td>\n",
       "      <td>54</td>\n",
       "      <td>18</td>\n",
       "      <td>0.088421</td>\n",
       "    </tr>\n",
       "  </tbody>\n",
       "</table>\n",
       "</div>"
      ],
      "text/plain": [
       "         date  Tweets (#)  Active Influencers (#)  Twitter Average SA\n",
       "0  2017-05-02         105                      25            0.156365\n",
       "1  2017-05-03          86                      30            0.207976\n",
       "2  2017-05-04         111                      27            0.152614\n",
       "3  2017-05-05          75                      28            0.117646\n",
       "4  2017-05-06          54                      18            0.088421"
      ]
     },
     "execution_count": 9,
     "metadata": {},
     "output_type": "execute_result"
    }
   ],
   "source": [
    "twitter.head(5)"
   ]
  }
 ],
 "metadata": {
  "kernelspec": {
   "display_name": "Python 3",
   "language": "python",
   "name": "python3"
  },
  "language_info": {
   "codemirror_mode": {
    "name": "ipython",
    "version": 3
   },
   "file_extension": ".py",
   "mimetype": "text/x-python",
   "name": "python",
   "nbconvert_exporter": "python",
   "pygments_lexer": "ipython3",
   "version": "3.6.2"
  }
 },
 "nbformat": 4,
 "nbformat_minor": 2
}
