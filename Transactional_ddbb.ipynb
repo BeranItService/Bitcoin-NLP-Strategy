{
 "cells": [
  {
   "cell_type": "markdown",
   "metadata": {
    "collapsed": true
   },
   "source": [
    "# TRANSACTIONAL DDBB PREPROCESSING\n",
    "\n",
    "#### Data Sources:\n"
   ]
  },
  {
   "cell_type": "code",
   "execution_count": 1,
   "metadata": {
    "collapsed": true
   },
   "outputs": [],
   "source": [
    "# First we load the needed packages:\n",
    "import sys\n",
    "import numpy as np\n",
    "import pandas as pd"
   ]
  },
  {
   "cell_type": "code",
   "execution_count": 3,
   "metadata": {},
   "outputs": [
    {
     "ename": "ModuleNotFoundError",
     "evalue": "No module named 'bq_helper'",
     "output_type": "error",
     "traceback": [
      "\u001b[1;31m---------------------------------------------------------------------------\u001b[0m",
      "\u001b[1;31mModuleNotFoundError\u001b[0m                       Traceback (most recent call last)",
      "\u001b[1;32m<ipython-input-3-58297dcbed1a>\u001b[0m in \u001b[0;36m<module>\u001b[1;34m()\u001b[0m\n\u001b[0;32m      1\u001b[0m \u001b[1;31m# USE OF BIG QUERY PACKAGE\u001b[0m\u001b[1;33m\u001b[0m\u001b[1;33m\u001b[0m\u001b[0m\n\u001b[0;32m      2\u001b[0m \u001b[1;31m# import our bq_helper package\u001b[0m\u001b[1;33m\u001b[0m\u001b[1;33m\u001b[0m\u001b[0m\n\u001b[1;32m----> 3\u001b[1;33m \u001b[1;32mimport\u001b[0m \u001b[0mbq_helper\u001b[0m\u001b[1;33m\u001b[0m\u001b[0m\n\u001b[0m\u001b[0;32m      4\u001b[0m \u001b[1;31m# create a helper object for our bigquery dataset\u001b[0m\u001b[1;33m\u001b[0m\u001b[1;33m\u001b[0m\u001b[0m\n\u001b[0;32m      5\u001b[0m \u001b[0mbitcoin_blockchain\u001b[0m \u001b[1;33m=\u001b[0m \u001b[0mbq_helper\u001b[0m\u001b[1;33m.\u001b[0m\u001b[0mBigQueryHelper\u001b[0m\u001b[1;33m(\u001b[0m\u001b[0mactive_project\u001b[0m\u001b[1;33m=\u001b[0m \u001b[1;34m\"bigquery-public-data\"\u001b[0m\u001b[1;33m,\u001b[0m \u001b[0mdataset_name\u001b[0m \u001b[1;33m=\u001b[0m \u001b[1;34m\"bitcoin_blockchain\"\u001b[0m\u001b[1;33m)\u001b[0m\u001b[1;33m\u001b[0m\u001b[0m\n",
      "\u001b[1;31mModuleNotFoundError\u001b[0m: No module named 'bq_helper'"
     ]
    }
   ],
   "source": [
    "# USE OF BIG QUERY PACKAGE\n",
    "# import our bq_helper package\n",
    "import bq_helper\n",
    "# create a helper object for our bigquery dataset\n",
    "bitcoin_blockchain = bq_helper.BigQueryHelper(active_project= \"bigquery-public-data\", dataset_name = \"bitcoin_blockchain\")"
   ]
  },
  {
   "cell_type": "code",
   "execution_count": null,
   "metadata": {
    "collapsed": true
   },
   "outputs": [],
   "source": [
    "query = \"\"\"#standardSQL\n",
    "        SELECT \n",
    "               T.block_id\n",
    "              ,T.transaction_id\n",
    "              ,ROUND((SUM(O.output_satoshis) / 100000000), 3) AS tot_BTC\n",
    "              --,COUNT(DISTINCT I.input_pubkey_base58) AS num_inputs\n",
    "              ,COUNT(O.output_satoshis) AS num_outputs\n",
    "                    FROM `bigquery-public-data.bitcoin_blockchain.transactions` T\n",
    "                    CROSS JOIN UNNEST(outputs) O\n",
    "                    --CROSS JOIN UNNEST(inputs) I\n",
    "                    GROUP BY  T.block_id, T.transaction_id\n",
    "                    ORDER BY tot_BTC DESC \n",
    "                    LIMIT 100\n",
    "             \"\"\""
   ]
  }
 ],
 "metadata": {
  "kernelspec": {
   "display_name": "Python 3",
   "language": "python",
   "name": "python3"
  },
  "language_info": {
   "codemirror_mode": {
    "name": "ipython",
    "version": 3
   },
   "file_extension": ".py",
   "mimetype": "text/x-python",
   "name": "python",
   "nbconvert_exporter": "python",
   "pygments_lexer": "ipython3",
   "version": "3.6.2"
  }
 },
 "nbformat": 4,
 "nbformat_minor": 1
}
