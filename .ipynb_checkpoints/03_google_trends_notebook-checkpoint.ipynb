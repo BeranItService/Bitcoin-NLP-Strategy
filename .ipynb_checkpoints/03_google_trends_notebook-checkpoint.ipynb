{
 "cells": [
  {
   "cell_type": "markdown",
   "metadata": {},
   "source": [
    "# Google Trends Momentum"
   ]
  },
  {
   "cell_type": "markdown",
   "metadata": {},
   "source": [
    "In this notebook we download data from Google trends and carry out some of the pre-processing related to it. What we look at is the ratio of \"buy bitcoin\" versus the sum of \"buy bitcoin\" & \"sell bitcoin\" to get a feeling about how the trend is evolving over time."
   ]
  },
  {
   "cell_type": "code",
   "execution_count": 10,
   "metadata": {
    "collapsed": true
   },
   "outputs": [],
   "source": [
    "import pandas as pd\n",
    "from pytrends.request import TrendReq"
   ]
  },
  {
   "cell_type": "code",
   "execution_count": 11,
   "metadata": {
    "collapsed": true
   },
   "outputs": [],
   "source": [
    "timeframes2017 = list()\n",
    "timeframesmix = list()\n",
    "timeframes2018 = list()\n",
    "for i in range(5,11):\n",
    "    timeframes2017.append('2017-'+str(i)+'-1 2017-'+str(i+2)+'-1')\n",
    "timeframesmix.append('2017-'+'11'+'-1 2018-'+'1'+'-1')\n",
    "timeframesmix.append('2017-'+'12'+'-1 2018-'+'2'+'-1')\n",
    "for i in range(1,5):\n",
    "    timeframes2018.append('2018-'+str(i)+'-1 2018-'+str(i+2)+'-1')"
   ]
  },
  {
   "cell_type": "code",
   "execution_count": 12,
   "metadata": {
    "collapsed": true
   },
   "outputs": [],
   "source": [
    "timeframes = timeframes2017+timeframesmix+timeframes2018"
   ]
  },
  {
   "cell_type": "code",
   "execution_count": 13,
   "metadata": {},
   "outputs": [
    {
     "name": "stdout",
     "output_type": "stream",
     "text": [
      "2017-5-1 2017-7-1\n",
      "2017-6-1 2017-8-1\n",
      "2017-7-1 2017-9-1\n",
      "2017-8-1 2017-10-1\n",
      "2017-9-1 2017-11-1\n",
      "2017-10-1 2017-12-1\n",
      "2017-11-1 2018-1-1\n",
      "2017-12-1 2018-2-1\n",
      "2018-1-1 2018-3-1\n",
      "2018-2-1 2018-4-1\n",
      "2018-3-1 2018-5-1\n",
      "2018-4-1 2018-6-1\n"
     ]
    }
   ],
   "source": [
    "pytrend = TrendReq(hl='en-US', tz=360)\n",
    "list_google = list()\n",
    "for timeframe in timeframes:\n",
    "    pytrend.build_payload(kw_list=['Buy Bitcoin', 'Sell Bitcoin'], \n",
    "                      timeframe=timeframe)\n",
    "    print(timeframe)\n",
    "    list_google.append(pytrend.interest_over_time())"
   ]
  },
  {
   "cell_type": "code",
   "execution_count": 14,
   "metadata": {
    "collapsed": true
   },
   "outputs": [],
   "source": [
    "df = pd.DataFrame(list_google[0])\n",
    "\n",
    "for i in range(1,11):\n",
    "    df = df.append(list_google[i])"
   ]
  },
  {
   "cell_type": "code",
   "execution_count": 15,
   "metadata": {
    "collapsed": true
   },
   "outputs": [],
   "source": [
    "df['googletrends_buy_sell'] = df[\"Buy Bitcoin\"]/(df[\"Sell Bitcoin\"]+df[\"Buy Bitcoin\"])\n",
    "df = df[['googletrends_buy_sell']] "
   ]
  },
  {
   "cell_type": "code",
   "execution_count": 16,
   "metadata": {
    "collapsed": true
   },
   "outputs": [],
   "source": [
    "df = df.groupby('date').mean().reset_index()\n",
    "df.to_csv(\"Data/google_trends.csv\")"
   ]
  }
 ],
 "metadata": {
  "kernelspec": {
   "display_name": "Python 3",
   "language": "python",
   "name": "python3"
  },
  "language_info": {
   "codemirror_mode": {
    "name": "ipython",
    "version": 3
   },
   "file_extension": ".py",
   "mimetype": "text/x-python",
   "name": "python",
   "nbconvert_exporter": "python",
   "pygments_lexer": "ipython3",
   "version": "3.6.3"
  }
 },
 "nbformat": 4,
 "nbformat_minor": 2
}
