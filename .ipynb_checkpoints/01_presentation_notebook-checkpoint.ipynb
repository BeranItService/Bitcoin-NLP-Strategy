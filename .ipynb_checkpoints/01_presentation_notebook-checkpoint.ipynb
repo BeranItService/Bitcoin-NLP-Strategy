{
 "cells": [
  {
   "cell_type": "markdown",
   "metadata": {
    "collapsed": true
   },
   "source": [
    "# Presentation Notebook CFS Capital\n",
    "Thursday September 20th <br>\n",
    "<br>\n",
    "    Eric Brea Garcia\n",
    "    <br>\n",
    "    Diederik Ketellapper\n",
    "    <br>\n",
    "    Viktor Malesevic\n",
    "    <br>\n",
    "    Daniel Wientjens"
   ]
  },
  {
   "cell_type": "markdown",
   "metadata": {},
   "source": [
    "#### Description"
   ]
  },
  {
   "cell_type": "markdown",
   "metadata": {},
   "source": [
    "The goal of the project is to predict whether the bitcoin price is going up or down. For this project we use data from the 1st of May 2017 untill the first of May 2018.\n",
    "\n",
    "We use a variety of sources of information each on a **daily level**:\n",
    "1. All the reddit comments that reference 'bitcoin' for this timeperiod utilizing google bigquery\n",
    "2. Forum Data from bis\n",
    "3. Google Trends data where we retrieve the bitcoin buy/ bitcoin sell +bitcoin buy fraction\n",
    "4. Tweets by the 100 biggest bitcoin influencers of this time period\n",
    "5. Bitcoin actual data from poloniex\n",
    "\n",
    "After this exercise we need to combine the data together to form a master table and then divide this into: Train,Validation and Test.\n",
    "\n",
    "As a penultimate step we use H2O automl to train a variety of models and use an ensemble to train and predict.\n",
    "\n",
    "Then finally we report on our data, what the return of our strategy would be for March and April of 2018.\n",
    "\n",
    "_Please note that not all code of this notebook runs, and it should not be used as such because of the long datadownloads, but it is intended to give a short concise overview of our project and the results. The full code can be found: https://github.com/ViktorMalesevic/Bitcoin-NLP-Strategy _\n",
    "\n",
    "\n"
   ]
  },
  {
   "cell_type": "markdown",
   "metadata": {},
   "source": [
    "# 1. Reddit Comments"
   ]
  },
  {
   "cell_type": "markdown",
   "metadata": {},
   "source": [
    "We downloaded all the reddit comments in the given time period and afterwards performed sentimed analysis and grouped by day"
   ]
  },
  {
   "cell_type": "markdown",
   "metadata": {},
   "source": [
    "We used google cloud for the processing power to download all the reddit comments referencing bitcoin within the time period as below"
   ]
  },
  {
   "cell_type": "markdown",
   "metadata": {},
   "source": [
    "#standardSQL\n",
    "SELECT created_utc, body\n",
    "\n",
    "FROM(\n",
    "  SELECT\n",
    "    *\n",
    "  FROM\n",
    "    `fh-bigquery.reddit_comments.2017_05` UNION ALL\n",
    "  SELECT\n",
    "    *\n",
    "  FROM\n",
    "    `fh-bigquery.reddit_comments.2017_06` UNION ALL\n",
    "  SELECT\n",
    "    *\n",
    "  FROM\n",
    "    `fh-bigquery.reddit_comments.2017_07` UNION ALL\n",
    "  SELECT\n",
    "    *\n",
    "  FROM\n",
    "    `fh-bigquery.reddit_comments.2017_08` UNION ALL\n",
    "  SELECT\n",
    "    *\n",
    "  FROM\n",
    "    `fh-bigquery.reddit_comments.2017_09` UNION ALL\n",
    "  SELECT\n",
    "    *\n",
    "  FROM\n",
    "    `fh-bigquery.reddit_comments.2017_10` UNION ALL\n",
    "  SELECT\n",
    "    *\n",
    "  FROM\n",
    "    `fh-bigquery.reddit_comments.2017_11` UNION ALL\n",
    "  SELECT\n",
    "    *\n",
    "  FROM\n",
    "    `fh-bigquery.reddit_comments.2017_12` UNION ALL\n",
    "  SELECT\n",
    "    *\n",
    "  FROM\n",
    "    `fh-bigquery.reddit_comments.2018_01` UNION ALL\n",
    "  SELECT\n",
    "    *\n",
    "  FROM\n",
    "    `fh-bigquery.reddit_comments.2018_02` UNION ALL\n",
    "  SELECT\n",
    "    *\n",
    "  FROM\n",
    "    `fh-bigquery.reddit_comments.2018_03` UNION ALL\n",
    "  SELECT\n",
    "    *\n",
    "  FROM\n",
    "    `fh-bigquery.reddit_comments.2018_04`) \n",
    "    \n",
    "WHERE REGEXP_CONTAINS(body, r'bitcoin')"
   ]
  },
  {
   "cell_type": "code",
   "execution_count": 5,
   "metadata": {
    "collapsed": true
   },
   "outputs": [],
   "source": [
    "import pandas as pd\n",
    "import re\n",
    "from datetime import datetime\n",
    "import re"
   ]
  },
  {
   "cell_type": "code",
   "execution_count": 2,
   "metadata": {
    "collapsed": true
   },
   "outputs": [],
   "source": [
    "# download the reddit comments\n",
    "reddit = pd.read_csv(\"/Users/Mobile/Downloads/r_comments\")"
   ]
  },
  {
   "cell_type": "code",
   "execution_count": null,
   "metadata": {
    "collapsed": true
   },
   "outputs": [],
   "source": [
    "# define a cleaning function for the reddit comments\n",
    "def clean(body):\n",
    " return ' '.join(re.sub(\"(@[A-Za-z0-9]+)|([^0-9A-Za-z \\t])|(\\w+:\\/\\/\\S+)\", \" \", body).split())"
   ]
  },
  {
   "cell_type": "code",
   "execution_count": null,
   "metadata": {
    "collapsed": true
   },
   "outputs": [],
   "source": [
    "# clean the reddit comments and dates\n",
    "reddit['body'] = reddit.body.apply(clean)\n",
    "reddit['date'] = reddit.created_utc.apply(datetime.fromtimestamp)\n",
    "reddit['date'] = reddit.date.dt.date"
   ]
  },
  {
   "cell_type": "code",
   "execution_count": null,
   "metadata": {
    "collapsed": true
   },
   "outputs": [],
   "source": [
    "# Here we perform the sentiment analysis it already computes the magnitude times the sentiment\n",
    "\n",
    "# Import the module\n",
    "from textblob import TextBlob\n",
    "def analize_sentiment(comment):\n",
    "    analysis = TextBlob(comment)\n",
    "    return(analysis.sentiment.polarity)\n",
    "\n",
    "reddit['SA'] = np.array([ analize_sentiment(comment) for comment in reddit['body']])"
   ]
  },
  {
   "cell_type": "markdown",
   "metadata": {},
   "source": [
    "Here we have to group the data by day and we do that by looking at the count of comments and the average sentiment analysis. "
   ]
  },
  {
   "cell_type": "code",
   "execution_count": null,
   "metadata": {
    "collapsed": true
   },
   "outputs": [],
   "source": [
    "# group by date\n",
    "reddit_groupby= reddit.groupby('date').agg({'body':'count', 'SA':'mean'})"
   ]
  },
  {
   "cell_type": "code",
   "execution_count": null,
   "metadata": {
    "collapsed": true
   },
   "outputs": [],
   "source": [
    "reddit_groupby = reddit_groupby.rename(columns={'body':'count_comments', 'SA':'mean_sa'}).reset_index()"
   ]
  },
  {
   "cell_type": "code",
   "execution_count": null,
   "metadata": {
    "collapsed": true
   },
   "outputs": [],
   "source": [
    "reddit_groupby.to_csv(\"Data/allreddit_nlp.csv\")"
   ]
  },
  {
   "cell_type": "markdown",
   "metadata": {},
   "source": [
    "# 2 Forum Data"
   ]
  },
  {
   "cell_type": "markdown",
   "metadata": {},
   "source": [
    " The forum data is a similiar exercise to the reddit comments and is here ommited for brevity "
   ]
  },
  {
   "cell_type": "markdown",
   "metadata": {},
   "source": [
    "# 3 Google Trends Data "
   ]
  },
  {
   "cell_type": "markdown",
   "metadata": {},
   "source": [
    "Here we download data from Google trends and carry out some of the pre-processing related to it. What we look at is the ratio of \"buy bitcoin\" versus the sum of \"buy bitcoin\" & \"sell bitcoin\" to get a feeling about how the trend is evolving over time. This solves as well one of our problems as google does not output the raw nummer of searches but gives you a number representing the change in your time period. Multiple downloads over multiple timeperiods cannot be compared as it seems that google adds some noise as well. \n",
    "This fraction is a solution but we do not assume it is the most optimal one."
   ]
  },
  {
   "cell_type": "code",
   "execution_count": null,
   "metadata": {
    "collapsed": true
   },
   "outputs": [],
   "source": [
    "# necessary imports\n",
    "from pytrends.request import TrendReq"
   ]
  },
  {
   "cell_type": "code",
   "execution_count": null,
   "metadata": {
    "collapsed": true
   },
   "outputs": [],
   "source": [
    "# Get the relevant timeframes to search on\n",
    "timeframes2017 = list()\n",
    "timeframesmix = list()\n",
    "timeframes2018 = list()\n",
    "for i in range(5,11):\n",
    "    timeframes2017.append('2017-'+str(i)+'-1 2017-'+str(i+2)+'-1')\n",
    "timeframesmix.append('2017-'+'11'+'-1 2018-'+'1'+'-1')\n",
    "timeframesmix.append('2017-'+'12'+'-1 2018-'+'2'+'-1')\n",
    "for i in range(1,5):\n",
    "    timeframes2018.append('2018-'+str(i)+'-1 2018-'+str(i+2)+'-1')\n",
    "timeframes = timeframes2017+timeframesmix+timeframes2018"
   ]
  },
  {
   "cell_type": "code",
   "execution_count": null,
   "metadata": {
    "collapsed": true
   },
   "outputs": [],
   "source": [
    "# download using pytrends the referenced timeperiods\n",
    "pytrend = TrendReq(hl='en-US', tz=360)\n",
    "list_google = list()\n",
    "for timeframe in timeframes:\n",
    "    pytrend.build_payload(kw_list=['Buy Bitcoin', 'Sell Bitcoin'], \n",
    "                      timeframe=timeframe)\n",
    "    list_google.append(pytrend.interest_over_time())"
   ]
  },
  {
   "cell_type": "code",
   "execution_count": null,
   "metadata": {
    "collapsed": true
   },
   "outputs": [],
   "source": [
    "# append all the dataframes to one large one\n",
    "df = pd.DataFrame(list_google[0])\n",
    "\n",
    "for i in range(1,11):\n",
    "    df = df.append(list_google[i])"
   ]
  },
  {
   "cell_type": "code",
   "execution_count": null,
   "metadata": {
    "collapsed": true
   },
   "outputs": [],
   "source": [
    "# Calculate the fraction\n",
    "df['googletrends_buy_sell'] = df[\"Buy Bitcoin\"]/(df[\"Sell Bitcoin\"]+df[\"Buy Bitcoin\"])\n",
    "df = df[['googletrends_buy_sell']] "
   ]
  },
  {
   "cell_type": "code",
   "execution_count": null,
   "metadata": {
    "collapsed": true
   },
   "outputs": [],
   "source": [
    "# take the mean for the overlapping dates and output the data\n",
    "df = df.groupby('date').mean().reset_index()\n",
    "df.to_csv(\"Data/google_trends.csv\")"
   ]
  },
  {
   "cell_type": "markdown",
   "metadata": {},
   "source": [
    "# 4 Downloading the Twitter Dataset of the 100 biggest influencers\n",
    "\n",
    "Here we are going to webscrap the twitter accounts of the top-100 influencers in the cryptocurrency world, according to cryptoweekly (\"https://cryptoweekly.co/100/\").\n",
    "\n",
    "The first step is to webscrape the twitter account names from cryptoweekly:"
   ]
  },
  {
   "cell_type": "code",
   "execution_count": 3,
   "metadata": {
    "collapsed": true
   },
   "outputs": [],
   "source": [
    "from urllib.request import urlopen\n",
    "from bs4 import BeautifulSoup as soup\n",
    "\n",
    "def getTwitterHandles():\n",
    "    # Fill in with url of page which is to be scraped\n",
    "    url = \"https://cryptoweekly.co/100/\"\n",
    "\n",
    "# Retreives and parses page html\n",
    "    client = urlopen(url)\n",
    "    pageHtml = client.read()\n",
    "    pageSoup = soup(pageHtml, \"html.parser\")\n",
    "\n",
    "# Adds all Twitter handles to twitterHandles list\n",
    "    profiles = pageSoup.findAll(\"div\", {\"class\":\"testimonial-wrapper\"})\n",
    "    twitterHandles = []\n",
    "    for person in profiles:\n",
    "        twitterHandles.append(person.findAll(\"div\",{\"class\":\"author\"}))\n",
    "    for i in range(len(twitterHandles)):\n",
    "        twitterHandles[i]=twitterHandles[i][0].findAll(\"a\")[0].text[1:]\n",
    "\n",
    "    client.close()\n",
    "    return twitterHandles"
   ]
  },
  {
   "cell_type": "markdown",
   "metadata": {},
   "source": [
    "Below we download the tweets. Because of the large download (it takes ~1h) please consider carefully to run"
   ]
  },
  {
   "cell_type": "code",
   "execution_count": null,
   "metadata": {
    "collapsed": true
   },
   "outputs": [],
   "source": [
    "import tweepy\n",
    "import csv\n",
    "import sys\n",
    "\n",
    "# Twitter API credentials (expired, don't even try it)\n",
    "consumer_key = \"\"\n",
    "consumer_secret = \"\"\n",
    "access_key = \"\"\n",
    "access_secret = \"\"\n",
    "\n",
    "\n",
    "def get_all_tweets(screen_name):\n",
    "\tprint(\"Getting tweets from @\" + str(screen_name))\n",
    "\n",
    "\t#Twitter only allows access to a users most recent 3240 tweets with this method\n",
    "\t\n",
    "\t#authorize twitter, initialize tweepy\n",
    "\tauth = tweepy.OAuthHandler(consumer_key, consumer_secret)\n",
    "\tauth.set_access_token(access_key, access_secret)\n",
    "\tapi = tweepy.API(auth)\n",
    "\t\n",
    "\t#initialize a list to hold all the tweepy Tweets\n",
    "\talltweets = []\t\n",
    "\t\n",
    "\t#make initial request for most recent tweets (200 is the maximum allowed count)\n",
    "\tnew_tweets = api.user_timeline(screen_name = screen_name,count=200)\n",
    "\t\n",
    "\t#save most recent tweets\n",
    "\talltweets.extend(new_tweets)\n",
    "\t\n",
    "\t#save the id of the oldest tweet less one\n",
    "\toldest = alltweets[-1].id - 1\n",
    "\t\n",
    "\t#keep grabbing tweets until there are no tweets left to grab\n",
    "\twhile len(new_tweets) > 0:\n",
    "\t\tprint (\"Getting tweets before %s\" % (oldest))\n",
    "\t\t\n",
    "\t\t#all subsiquent requests use the max_id param to prevent duplicates\n",
    "\t\tnew_tweets = api.user_timeline(screen_name = screen_name,count=200,max_id=oldest)\n",
    "\t\t\n",
    "\t\t#save most recent tweets\n",
    "\t\talltweets.extend(new_tweets)\n",
    "\t\t\n",
    "\t\t#update the id of the oldest tweet less one\n",
    "\t\toldest = alltweets[-1].id - 1\n",
    "\t\t\n",
    "\t\tprint (\"...%s tweets downloaded so far\" % (len(alltweets)))\n",
    "\n",
    "\t#transform the tweepy tweets into a 2D array that will populate the csv\t\n",
    "\touttweets = [[tweet.id_str.encode('utf-8'), tweet.created_at.strftime('%m/%d/%Y'), tweet.text.encode('utf-8')] for tweet in alltweets]\n",
    "\t\n",
    "\t#write the csv\t\n",
    "\twith open('Data/Tweets/%s_tweets.csv' % screen_name, 'w') as f:\n",
    "\t\twriter = csv.writer(f)\n",
    "\t\twriter.writerow([\"id\",\"created_at\",\"text\"])\n",
    "\t\twriter.writerows(outtweets)\n",
    "\t\n",
    "\tpass\n",
    "\n",
    "\n",
    "if __name__ == '__main__':\n",
    "\thandles = getTwitterHandles()\n",
    "    # The Peter Todd twitter handle is updated to his new account, as long as the old one was listed in the website:\n",
    "\tfor i in range(len(handles)):\n",
    "\t\tif handles[i] == 'petertoddbtc':\n",
    "\t\t\thandles[i] = 'peterktodd'\n",
    "\tfor handle in handles:\n",
    "\t\tget_all_tweets(str(handle))"
   ]
  },
  {
   "cell_type": "markdown",
   "metadata": {},
   "source": [
    "After downloading the tweets we do a similar exercise as with the reddit comments.\n",
    "We also remove any tweets that are not in the correct timeframe. This is ommited for brevity."
   ]
  },
  {
   "cell_type": "markdown",
   "metadata": {},
   "source": [
    "# 5 Importing the poloniex data "
   ]
  },
  {
   "cell_type": "markdown",
   "metadata": {},
   "source": [
    "## Step 1. Importing from Poloniex\n",
    "Poloniex is a cryptocurrency exchange found on https://poloniex.com/exchange, to download the data we use a package made by a poloniex community member."
   ]
  },
  {
   "cell_type": "code",
   "execution_count": 6,
   "metadata": {
    "collapsed": true
   },
   "outputs": [],
   "source": [
    "import poloniex\n",
    "import datetime"
   ]
  },
  {
   "cell_type": "markdown",
   "metadata": {},
   "source": [
    "Importing from API\n",
    "\n",
    "To import poloniex we need to install the package in the console using:\n",
    "pip install poloniex\n",
    "\n",
    "The help function gives a list of functions included in the package and some descriptions\n",
    "help(poloniex.poloniex)\n",
    "\n",
    "We are using the public data so no keys are needed"
   ]
  },
  {
   "cell_type": "markdown",
   "metadata": {},
   "source": [
    "The package has many functionalities but the information we want is public, therefore we do not need access tokens or secret keys. The currency we are looking for is BitCoin relative to the USD, therefore looking at the documentation we know that we need to search using the term 'USDT_BTC', with an additional parameter of seconds between measurements. We chose to take the 24 hours frequency."
   ]
  },
  {
   "cell_type": "code",
   "execution_count": 8,
   "metadata": {
    "collapsed": true
   },
   "outputs": [],
   "source": [
    "polo = poloniex.Poloniex()\n",
    "btc86400 = pd.DataFrame(polo.returnChartData(\"USDT_BTC\", 86400))"
   ]
  },
  {
   "cell_type": "markdown",
   "metadata": {},
   "source": [
    "## Step 2. Pre-processing\n"
   ]
  },
  {
   "cell_type": "code",
   "execution_count": 9,
   "metadata": {
    "collapsed": true
   },
   "outputs": [],
   "source": [
    "#Transform the unix timestamp to datetime:\n",
    "btc86400.date = pd.to_datetime(btc86400.date, unit = 's')\n",
    "#Setting the date as index:\n",
    "btc86400.set_index('date', inplace = True)\n",
    "#Taking the period 2017-05-01 to 2018-05-02 (one more day for lagged purposes):\n",
    "btc_data = btc86400[\"2017-04-16\":\"2018-05-02\"]\n",
    "#We decide to take only close and volume since the other columns are extremly correlated to these and may not provide more useful information for our purpose.\n",
    "returns_data = btc_data[[\"close\"]]\n",
    "#Now let's look at the returns (indeed, the close price itself is not particularly interesting):\n",
    "returns_data = returns_data.pct_change()\n",
    "volatility_data = returns_data.rolling(14).std()\n",
    "#We are going to add the volatility of the last 14 days:\n",
    "volatility_data = volatility_data.rename(columns = {'close': 'volatility_14'})"
   ]
  },
  {
   "cell_type": "code",
   "execution_count": 10,
   "metadata": {
    "collapsed": true
   },
   "outputs": [],
   "source": [
    "# final changes for clarity\n",
    "returns_data = returns_data.shift(-1)\n",
    "returns_data = returns_data.dropna()\n",
    "returns_data.columns = [\"return_day+1\"]"
   ]
  },
  {
   "cell_type": "code",
   "execution_count": null,
   "metadata": {
    "collapsed": true
   },
   "outputs": [],
   "source": [
    "#Now we put back together the returns at day+1 with the close and volume information from earlier. We also dropna() for deleting the day 2018-05-02.\n",
    "data = pd.concat((returns_data, btc_data[[\"close\",\"volume\"]]), axis = 1)\n",
    "data = pd.concat((data, volatility_data), axis = 1)\n",
    "data = data.dropna()\n",
    "# filter\n",
    "data = data[\"may-2017\":\"may-2018\"]\n",
    "data.to_csv(\"Data/poloniex_data.csv\")\n",
    "#Creating a csv file for later purposes and checking that reading it works."
   ]
  },
  {
   "cell_type": "markdown",
   "metadata": {},
   "source": [
    "# 6. Combining data"
   ]
  },
  {
   "cell_type": "markdown",
   "metadata": {},
   "source": [
    "# RUN FROM HERE"
   ]
  },
  {
   "cell_type": "code",
   "execution_count": 18,
   "metadata": {
    "collapsed": true
   },
   "outputs": [],
   "source": [
    "import pandas as pd\n",
    "import numpy as np"
   ]
  },
  {
   "cell_type": "code",
   "execution_count": 19,
   "metadata": {
    "collapsed": true
   },
   "outputs": [],
   "source": [
    "# Load CSV files:\n",
    "poloniex = pd.read_csv(\"Data/poloniex_data.csv\")\n",
    "ggtrends = pd.read_csv(\"Data/google_trends.csv\")\n",
    "twitter = pd.read_csv(\"Data/twitter_agg_ddb.csv\")\n",
    "reddit = pd.read_csv(\"Data/allreddit_nlp.csv\")\n",
    "forum = pd.read_csv(\"Data/merit_compound.csv\")"
   ]
  },
  {
   "cell_type": "code",
   "execution_count": 20,
   "metadata": {
    "collapsed": true
   },
   "outputs": [],
   "source": [
    "# A bit of preprocessing:\n",
    "# GOOGLE TRENDS:\n",
    "ggtrends = ggtrends.loc[:, ~ggtrends.columns.str.contains('^Unnamed')]\n",
    "# REDDIT:\n",
    "reddit = reddit.loc[:, ~reddit.columns.str.contains('^Unnamed')]\n",
    "reddit = reddit.rename(columns={'date_notime': 'date', 'count_comments': 'Reddit Comments (#)', 'mean_sa': 'Reddit Average SA'})\n",
    "# TWITTER:\n",
    "twitter = twitter.rename(columns={'created_at': 'date','Average SA': 'Twitter Average SA'})\n",
    "twitter['date'] =  pd.to_datetime(twitter['date'], format='%Y%m%d %H:%M:%S')\n",
    "twitter['date'] = twitter['date'].dt.date\n",
    "twitter['date'] = twitter['date'].apply(str)\n",
    "\n",
    "# FORUM:\n",
    "forum = forum.loc[:, ~forum.columns.str.contains('^Unnamed')]\n",
    "forum = forum.rename(columns={'newdate': 'date', 'compound': 'Forum SA Merit', 'merit_compound': 'Forum SA Merit (weighted)'})"
   ]
  },
  {
   "cell_type": "code",
   "execution_count": 21,
   "metadata": {
    "collapsed": true
   },
   "outputs": [],
   "source": [
    "# Merge the datasets into one Master Table:\n",
    "master = pd.merge(poloniex, ggtrends, how = 'inner', on = 'date')\n",
    "master = pd.merge(master, twitter, how = 'outer', on = 'date')\n",
    "master = pd.merge(master, forum, how = 'inner', on = 'date')\n",
    "master = pd.merge(master, reddit, how = 'inner', on = 'date')"
   ]
  },
  {
   "cell_type": "code",
   "execution_count": 22,
   "metadata": {
    "collapsed": true
   },
   "outputs": [],
   "source": [
    "# Create the UP/DOWN class:\n",
    "master['invest'] = master['return_day+1']>0"
   ]
  },
  {
   "cell_type": "markdown",
   "metadata": {},
   "source": [
    "# 7. MODEL DEVELOPMENT"
   ]
  },
  {
   "cell_type": "code",
   "execution_count": 23,
   "metadata": {},
   "outputs": [],
   "source": [
    "from sklearn import preprocessing\n",
    "import h2o\n",
    "from h2o.automl import H2OAutoML"
   ]
  },
  {
   "cell_type": "markdown",
   "metadata": {},
   "source": [
    "We scale the data before giving it to the model:"
   ]
  },
  {
   "cell_type": "code",
   "execution_count": 24,
   "metadata": {},
   "outputs": [
    {
     "data": {
      "text/html": [
       "<div>\n",
       "<style>\n",
       "    .dataframe thead tr:only-child th {\n",
       "        text-align: right;\n",
       "    }\n",
       "\n",
       "    .dataframe thead th {\n",
       "        text-align: left;\n",
       "    }\n",
       "\n",
       "    .dataframe tbody tr th {\n",
       "        vertical-align: top;\n",
       "    }\n",
       "</style>\n",
       "<table border=\"1\" class=\"dataframe\">\n",
       "  <thead>\n",
       "    <tr style=\"text-align: right;\">\n",
       "      <th></th>\n",
       "      <th>close</th>\n",
       "      <th>volume</th>\n",
       "      <th>volatility_14</th>\n",
       "      <th>googletrends_buy_sell</th>\n",
       "      <th>Tweets (#)</th>\n",
       "      <th>Active Influencers (#)</th>\n",
       "      <th>Twitter Average SA</th>\n",
       "      <th>Forum SA Merit</th>\n",
       "      <th>Forum SA Merit (weighted)</th>\n",
       "      <th>Reddit Comments (#)</th>\n",
       "      <th>Reddit Average SA</th>\n",
       "      <th>invest</th>\n",
       "      <th>date</th>\n",
       "    </tr>\n",
       "  </thead>\n",
       "  <tbody>\n",
       "    <tr>\n",
       "      <th>0</th>\n",
       "      <td>-1.259410</td>\n",
       "      <td>-0.885228</td>\n",
       "      <td>-1.815638</td>\n",
       "      <td>-0.617938</td>\n",
       "      <td>-1.229630</td>\n",
       "      <td>-1.308931</td>\n",
       "      <td>2.019758</td>\n",
       "      <td>-0.730275</td>\n",
       "      <td>1.544647</td>\n",
       "      <td>-0.857860</td>\n",
       "      <td>1.610330</td>\n",
       "      <td>True</td>\n",
       "      <td>2017-05-01</td>\n",
       "    </tr>\n",
       "    <tr>\n",
       "      <th>1</th>\n",
       "      <td>-1.246628</td>\n",
       "      <td>-0.809811</td>\n",
       "      <td>-1.826866</td>\n",
       "      <td>1.350456</td>\n",
       "      <td>-1.368504</td>\n",
       "      <td>-0.838780</td>\n",
       "      <td>4.091047</td>\n",
       "      <td>-0.024282</td>\n",
       "      <td>1.840794</td>\n",
       "      <td>-0.987301</td>\n",
       "      <td>1.935256</td>\n",
       "      <td>True</td>\n",
       "      <td>2017-05-02</td>\n",
       "    </tr>\n",
       "    <tr>\n",
       "      <th>2</th>\n",
       "      <td>-1.249417</td>\n",
       "      <td>-0.566294</td>\n",
       "      <td>-1.803027</td>\n",
       "      <td>-0.836648</td>\n",
       "      <td>-1.185774</td>\n",
       "      <td>-1.120870</td>\n",
       "      <td>1.869204</td>\n",
       "      <td>0.397697</td>\n",
       "      <td>2.109174</td>\n",
       "      <td>-0.770868</td>\n",
       "      <td>0.690981</td>\n",
       "      <td>False</td>\n",
       "      <td>2017-05-03</td>\n",
       "    </tr>\n",
       "    <tr>\n",
       "      <th>3</th>\n",
       "      <td>-1.263814</td>\n",
       "      <td>-0.435161</td>\n",
       "      <td>-1.564961</td>\n",
       "      <td>-1.602135</td>\n",
       "      <td>-1.448905</td>\n",
       "      <td>-1.026840</td>\n",
       "      <td>0.465855</td>\n",
       "      <td>0.413071</td>\n",
       "      <td>1.449825</td>\n",
       "      <td>-0.811220</td>\n",
       "      <td>0.253766</td>\n",
       "      <td>False</td>\n",
       "      <td>2017-05-04</td>\n",
       "    </tr>\n",
       "    <tr>\n",
       "      <th>4</th>\n",
       "      <td>-1.250772</td>\n",
       "      <td>-0.672864</td>\n",
       "      <td>-1.518604</td>\n",
       "      <td>0.326891</td>\n",
       "      <td>-1.602398</td>\n",
       "      <td>-1.967142</td>\n",
       "      <td>-0.707008</td>\n",
       "      <td>-1.211215</td>\n",
       "      <td>1.046577</td>\n",
       "      <td>-0.925463</td>\n",
       "      <td>-0.907606</td>\n",
       "      <td>True</td>\n",
       "      <td>2017-05-05</td>\n",
       "    </tr>\n",
       "  </tbody>\n",
       "</table>\n",
       "</div>"
      ],
      "text/plain": [
       "      close    volume  volatility_14  googletrends_buy_sell  Tweets (#)  \\\n",
       "0 -1.259410 -0.885228      -1.815638              -0.617938   -1.229630   \n",
       "1 -1.246628 -0.809811      -1.826866               1.350456   -1.368504   \n",
       "2 -1.249417 -0.566294      -1.803027              -0.836648   -1.185774   \n",
       "3 -1.263814 -0.435161      -1.564961              -1.602135   -1.448905   \n",
       "4 -1.250772 -0.672864      -1.518604               0.326891   -1.602398   \n",
       "\n",
       "   Active Influencers (#)  Twitter Average SA  Forum SA Merit  \\\n",
       "0               -1.308931            2.019758       -0.730275   \n",
       "1               -0.838780            4.091047       -0.024282   \n",
       "2               -1.120870            1.869204        0.397697   \n",
       "3               -1.026840            0.465855        0.413071   \n",
       "4               -1.967142           -0.707008       -1.211215   \n",
       "\n",
       "   Forum SA Merit (weighted)  Reddit Comments (#)  Reddit Average SA  invest  \\\n",
       "0                   1.544647            -0.857860           1.610330    True   \n",
       "1                   1.840794            -0.987301           1.935256    True   \n",
       "2                   2.109174            -0.770868           0.690981   False   \n",
       "3                   1.449825            -0.811220           0.253766   False   \n",
       "4                   1.046577            -0.925463          -0.907606    True   \n",
       "\n",
       "         date  \n",
       "0  2017-05-01  \n",
       "1  2017-05-02  \n",
       "2  2017-05-03  \n",
       "3  2017-05-04  \n",
       "4  2017-05-05  "
      ]
     },
     "execution_count": 24,
     "metadata": {},
     "output_type": "execute_result"
    }
   ],
   "source": [
    "data = pd.read_csv(\"Data/20180920_mastertable.csv\")\n",
    "invest = data.invest\n",
    "date = data.date\n",
    "data = data.dropna()\n",
    "data_scaled = data.drop([\"date\",\"Unnamed: 0\",\"return_day+1\",\"invest\"], axis=1)\n",
    "cols = data_scaled.columns\n",
    "data_scaled = preprocessing.scale(data_scaled)\n",
    "data_scaled = pd.DataFrame(data_scaled)\n",
    "data_scaled.columns = cols\n",
    "data_scaled[\"invest\"] = invest\n",
    "data_scaled[\"date\"] = date\n",
    "data = data_scaled\n",
    "data.head(5)"
   ]
  },
  {
   "cell_type": "markdown",
   "metadata": {},
   "source": [
    "Now we initialize the H2O API, which will run different models and compare them"
   ]
  },
  {
   "cell_type": "code",
   "execution_count": 25,
   "metadata": {},
   "outputs": [
    {
     "name": "stdout",
     "output_type": "stream",
     "text": [
      "Checking whether there is an H2O instance running at http://localhost:54321..... not found.\n",
      "Attempting to start a local H2O server...\n",
      "; Java HotSpot(TM) Client VM (build 25.151-b12, mixed mode)\n"
     ]
    },
    {
     "name": "stderr",
     "output_type": "stream",
     "text": [
      "C:\\Users\\Eric\\Anaconda3\\lib\\site-packages\\h2o\\backend\\server.py:332: UserWarning:   You have a 32-bit version of Java. H2O works best with 64-bit Java.\n",
      "  Please download the latest 64-bit Java SE JDK from Oracle.\n",
      "\n",
      "  warn(\"  You have a 32-bit version of Java. H2O works best with 64-bit Java.\\n\"\n"
     ]
    },
    {
     "name": "stdout",
     "output_type": "stream",
     "text": [
      "  Starting server from C:\\Users\\Eric\\Anaconda3\\lib\\site-packages\\h2o\\backend\\bin\\h2o.jar\n",
      "  Ice root: C:\\Users\\Eric\\AppData\\Local\\Temp\\tmpguo_ycy0\n",
      "  JVM stdout: C:\\Users\\Eric\\AppData\\Local\\Temp\\tmpguo_ycy0\\h2o_Eric_started_from_python.out\n",
      "  JVM stderr: C:\\Users\\Eric\\AppData\\Local\\Temp\\tmpguo_ycy0\\h2o_Eric_started_from_python.err\n",
      "  Server is running at http://127.0.0.1:54321\n",
      "Connecting to H2O server at http://127.0.0.1:54321... successful.\n"
     ]
    },
    {
     "data": {
      "text/html": [
       "<div style=\"overflow:auto\"><table style=\"width:50%\"><tr><td>H2O cluster uptime:</td>\n",
       "<td>03 secs</td></tr>\n",
       "<tr><td>H2O cluster timezone:</td>\n",
       "<td>Europe/Paris</td></tr>\n",
       "<tr><td>H2O data parsing timezone:</td>\n",
       "<td>UTC</td></tr>\n",
       "<tr><td>H2O cluster version:</td>\n",
       "<td>3.20.0.7</td></tr>\n",
       "<tr><td>H2O cluster version age:</td>\n",
       "<td>19 days </td></tr>\n",
       "<tr><td>H2O cluster name:</td>\n",
       "<td>H2O_from_python_Eric_0mmguf</td></tr>\n",
       "<tr><td>H2O cluster total nodes:</td>\n",
       "<td>1</td></tr>\n",
       "<tr><td>H2O cluster free memory:</td>\n",
       "<td>247.5 Mb</td></tr>\n",
       "<tr><td>H2O cluster total cores:</td>\n",
       "<td>0</td></tr>\n",
       "<tr><td>H2O cluster allowed cores:</td>\n",
       "<td>0</td></tr>\n",
       "<tr><td>H2O cluster status:</td>\n",
       "<td>accepting new members, healthy</td></tr>\n",
       "<tr><td>H2O connection url:</td>\n",
       "<td>http://127.0.0.1:54321</td></tr>\n",
       "<tr><td>H2O connection proxy:</td>\n",
       "<td>None</td></tr>\n",
       "<tr><td>H2O internal security:</td>\n",
       "<td>False</td></tr>\n",
       "<tr><td>H2O API Extensions:</td>\n",
       "<td>Algos, AutoML, Core V3, Core V4</td></tr>\n",
       "<tr><td>Python version:</td>\n",
       "<td>3.6.2 final</td></tr></table></div>"
      ],
      "text/plain": [
       "--------------------------  -------------------------------\n",
       "H2O cluster uptime:         03 secs\n",
       "H2O cluster timezone:       Europe/Paris\n",
       "H2O data parsing timezone:  UTC\n",
       "H2O cluster version:        3.20.0.7\n",
       "H2O cluster version age:    19 days\n",
       "H2O cluster name:           H2O_from_python_Eric_0mmguf\n",
       "H2O cluster total nodes:    1\n",
       "H2O cluster free memory:    247.5 Mb\n",
       "H2O cluster total cores:    0\n",
       "H2O cluster allowed cores:  0\n",
       "H2O cluster status:         accepting new members, healthy\n",
       "H2O connection url:         http://127.0.0.1:54321\n",
       "H2O connection proxy:\n",
       "H2O internal security:      False\n",
       "H2O API Extensions:         Algos, AutoML, Core V3, Core V4\n",
       "Python version:             3.6.2 final\n",
       "--------------------------  -------------------------------"
      ]
     },
     "metadata": {},
     "output_type": "display_data"
    }
   ],
   "source": [
    "h2o.init()"
   ]
  },
  {
   "cell_type": "markdown",
   "metadata": {},
   "source": [
    "We separate the data in train, validation and test; as 60-20-20."
   ]
  },
  {
   "cell_type": "code",
   "execution_count": 26,
   "metadata": {},
   "outputs": [
    {
     "name": "stdout",
     "output_type": "stream",
     "text": [
      "Parse progress: |█████████████████████████████████████████████████████████| 100%\n",
      "Parse progress: |█████████████████████████████████████████████████████████| 100%\n",
      "Parse progress: |█████████████████████████████████████████████████████████| 100%\n"
     ]
    }
   ],
   "source": [
    "train = data[0:218]\n",
    "validation = data[219:291]\n",
    "test = data[292:]\n",
    "#train[\"invest\"] = asfactor(train[\"invest\"])\n",
    "#test[\"invest\"] = asfactor(test[\"invest\"])\n",
    "train = h2o.H2OFrame(train)\n",
    "test = h2o.H2OFrame(test)\n",
    "validation = h2o.H2OFrame(validation)"
   ]
  },
  {
   "cell_type": "markdown",
   "metadata": {},
   "source": [
    "We assign the value to predict:"
   ]
  },
  {
   "cell_type": "code",
   "execution_count": 27,
   "metadata": {
    "collapsed": true
   },
   "outputs": [],
   "source": [
    "x = train.columns\n",
    "y = \"invest\"\n",
    "x.remove(y)\n"
   ]
  },
  {
   "cell_type": "markdown",
   "metadata": {},
   "source": [
    "We run AutoML for 30 seconds:"
   ]
  },
  {
   "cell_type": "code",
   "execution_count": 28,
   "metadata": {},
   "outputs": [
    {
     "name": "stdout",
     "output_type": "stream",
     "text": [
      "AutoML progress: |████████████████████████████████████████████████████████| 100%\n"
     ]
    },
    {
     "data": {
      "text/html": [
       "<table>\n",
       "<thead>\n",
       "<tr><th>model_id                                             </th><th style=\"text-align: right;\">     auc</th><th style=\"text-align: right;\">  logloss</th><th style=\"text-align: right;\">  mean_per_class_error</th><th style=\"text-align: right;\">    rmse</th><th style=\"text-align: right;\">     mse</th></tr>\n",
       "</thead>\n",
       "<tbody>\n",
       "<tr><td>GLM_grid_0_AutoML_20180920_194033_model_0            </td><td style=\"text-align: right;\">0.664236</td><td style=\"text-align: right;\"> 0.639542</td><td style=\"text-align: right;\">              0.465625</td><td style=\"text-align: right;\">0.475377</td><td style=\"text-align: right;\">0.225984</td></tr>\n",
       "<tr><td>StackedEnsemble_BestOfFamily_0_AutoML_20180920_194033</td><td style=\"text-align: right;\">0.644444</td><td style=\"text-align: right;\"> 0.648076</td><td style=\"text-align: right;\">              0.467274</td><td style=\"text-align: right;\">0.478142</td><td style=\"text-align: right;\">0.22862 </td></tr>\n",
       "<tr><td>GBM_grid_0_AutoML_20180920_194033_model_2            </td><td style=\"text-align: right;\">0.616493</td><td style=\"text-align: right;\"> 0.692409</td><td style=\"text-align: right;\">              0.438455</td><td style=\"text-align: right;\">0.494513</td><td style=\"text-align: right;\">0.244543</td></tr>\n",
       "<tr><td>GBM_grid_0_AutoML_20180920_194033_model_1            </td><td style=\"text-align: right;\">0.596354</td><td style=\"text-align: right;\"> 0.70799 </td><td style=\"text-align: right;\">              0.456771</td><td style=\"text-align: right;\">0.500512</td><td style=\"text-align: right;\">0.250513</td></tr>\n",
       "<tr><td>GBM_grid_0_AutoML_20180920_194033_model_3            </td><td style=\"text-align: right;\">0.594965</td><td style=\"text-align: right;\"> 0.711176</td><td style=\"text-align: right;\">              0.5     </td><td style=\"text-align: right;\">0.501973</td><td style=\"text-align: right;\">0.251977</td></tr>\n",
       "<tr><td>DeepLearning_grid_0_AutoML_20180920_194033_model_1   </td><td style=\"text-align: right;\">0.589931</td><td style=\"text-align: right;\"> 0.729725</td><td style=\"text-align: right;\">              0.5     </td><td style=\"text-align: right;\">0.507422</td><td style=\"text-align: right;\">0.257477</td></tr>\n",
       "<tr><td>GBM_grid_0_AutoML_20180920_194033_model_0            </td><td style=\"text-align: right;\">0.583767</td><td style=\"text-align: right;\"> 0.746501</td><td style=\"text-align: right;\">              0.494444</td><td style=\"text-align: right;\">0.511981</td><td style=\"text-align: right;\">0.262125</td></tr>\n",
       "<tr><td>XRT_0_AutoML_20180920_194033                         </td><td style=\"text-align: right;\">0.575998</td><td style=\"text-align: right;\"> 0.860098</td><td style=\"text-align: right;\">              0.5     </td><td style=\"text-align: right;\">0.506134</td><td style=\"text-align: right;\">0.256171</td></tr>\n",
       "<tr><td>DeepLearning_0_AutoML_20180920_194033                </td><td style=\"text-align: right;\">0.563976</td><td style=\"text-align: right;\"> 0.733064</td><td style=\"text-align: right;\">              0.465625</td><td style=\"text-align: right;\">0.512571</td><td style=\"text-align: right;\">0.262729</td></tr>\n",
       "<tr><td>DRF_0_AutoML_20180920_194033                         </td><td style=\"text-align: right;\">0.561328</td><td style=\"text-align: right;\"> 0.725252</td><td style=\"text-align: right;\">              0.492795</td><td style=\"text-align: right;\">0.509667</td><td style=\"text-align: right;\">0.25976 </td></tr>\n",
       "</tbody>\n",
       "</table>"
      ]
     },
     "metadata": {},
     "output_type": "display_data"
    },
    {
     "data": {
      "text/plain": []
     },
     "execution_count": 28,
     "metadata": {},
     "output_type": "execute_result"
    }
   ],
   "source": [
    "aml = H2OAutoML(max_runtime_secs = 30)\n",
    "aml.train(x = x, y = y,\n",
    "          training_frame = train,\n",
    "          validation_frame = validation)\n",
    "\n",
    "# View the AutoML Leaderboard\n",
    "lb = aml.leaderboard\n",
    "lb\n",
    "#h2o.shutdown(prompt=False)"
   ]
  },
  {
   "cell_type": "markdown",
   "metadata": {},
   "source": [
    "And we save the best model (based on AUC), which happened to be a GLM obtaining a AUC=0.66:"
   ]
  },
  {
   "cell_type": "code",
   "execution_count": 29,
   "metadata": {
    "collapsed": true
   },
   "outputs": [],
   "source": [
    "model_path = h2o.save_model(model=aml.leader, path = \"nonlagged_leadermodel_GLM\", force = True)"
   ]
  },
  {
   "cell_type": "markdown",
   "metadata": {},
   "source": [
    "Create predictions using this model, and save them to a .csv file:"
   ]
  },
  {
   "cell_type": "code",
   "execution_count": 30,
   "metadata": {},
   "outputs": [
    {
     "name": "stdout",
     "output_type": "stream",
     "text": [
      "glm prediction progress: |████████████████████████████████████████████████| 100%\n"
     ]
    }
   ],
   "source": [
    "preds = aml.leader.predict(test)"
   ]
  },
  {
   "cell_type": "code",
   "execution_count": 31,
   "metadata": {},
   "outputs": [
    {
     "data": {
      "text/html": [
       "<div>\n",
       "<style>\n",
       "    .dataframe thead tr:only-child th {\n",
       "        text-align: right;\n",
       "    }\n",
       "\n",
       "    .dataframe thead th {\n",
       "        text-align: left;\n",
       "    }\n",
       "\n",
       "    .dataframe tbody tr th {\n",
       "        vertical-align: top;\n",
       "    }\n",
       "</style>\n",
       "<table border=\"1\" class=\"dataframe\">\n",
       "  <thead>\n",
       "    <tr style=\"text-align: right;\">\n",
       "      <th></th>\n",
       "      <th>predict</th>\n",
       "      <th>False</th>\n",
       "      <th>True</th>\n",
       "    </tr>\n",
       "  </thead>\n",
       "  <tbody>\n",
       "    <tr>\n",
       "      <th>0</th>\n",
       "      <td>True</td>\n",
       "      <td>0.175136</td>\n",
       "      <td>0.824864</td>\n",
       "    </tr>\n",
       "    <tr>\n",
       "      <th>1</th>\n",
       "      <td>True</td>\n",
       "      <td>0.062958</td>\n",
       "      <td>0.937042</td>\n",
       "    </tr>\n",
       "    <tr>\n",
       "      <th>2</th>\n",
       "      <td>True</td>\n",
       "      <td>0.145614</td>\n",
       "      <td>0.854386</td>\n",
       "    </tr>\n",
       "    <tr>\n",
       "      <th>3</th>\n",
       "      <td>True</td>\n",
       "      <td>0.323121</td>\n",
       "      <td>0.676879</td>\n",
       "    </tr>\n",
       "    <tr>\n",
       "      <th>4</th>\n",
       "      <td>True</td>\n",
       "      <td>0.338793</td>\n",
       "      <td>0.661207</td>\n",
       "    </tr>\n",
       "    <tr>\n",
       "      <th>...</th>\n",
       "      <td>...</td>\n",
       "      <td>...</td>\n",
       "      <td>...</td>\n",
       "    </tr>\n",
       "    <tr>\n",
       "      <th>67</th>\n",
       "      <td>True</td>\n",
       "      <td>0.349115</td>\n",
       "      <td>0.650885</td>\n",
       "    </tr>\n",
       "    <tr>\n",
       "      <th>68</th>\n",
       "      <td>False</td>\n",
       "      <td>0.433633</td>\n",
       "      <td>0.566367</td>\n",
       "    </tr>\n",
       "    <tr>\n",
       "      <th>69</th>\n",
       "      <td>True</td>\n",
       "      <td>0.359369</td>\n",
       "      <td>0.640631</td>\n",
       "    </tr>\n",
       "    <tr>\n",
       "      <th>70</th>\n",
       "      <td>False</td>\n",
       "      <td>0.495186</td>\n",
       "      <td>0.504814</td>\n",
       "    </tr>\n",
       "    <tr>\n",
       "      <th>71</th>\n",
       "      <td>True</td>\n",
       "      <td>0.402840</td>\n",
       "      <td>0.597160</td>\n",
       "    </tr>\n",
       "  </tbody>\n",
       "</table>\n",
       "<p>72 rows × 3 columns</p>\n",
       "</div>"
      ],
      "text/plain": [
       "    predict     False      True\n",
       "0      True  0.175136  0.824864\n",
       "1      True  0.062958  0.937042\n",
       "2      True  0.145614  0.854386\n",
       "3      True  0.323121  0.676879\n",
       "4      True  0.338793  0.661207\n",
       "..      ...       ...       ...\n",
       "67     True  0.349115  0.650885\n",
       "68    False  0.433633  0.566367\n",
       "69     True  0.359369  0.640631\n",
       "70    False  0.495186  0.504814\n",
       "71     True  0.402840  0.597160\n",
       "\n",
       "[72 rows x 3 columns]"
      ]
     },
     "execution_count": 31,
     "metadata": {},
     "output_type": "execute_result"
    }
   ],
   "source": [
    "predictions = preds.as_data_frame()\n",
    "predictions"
   ]
  },
  {
   "cell_type": "code",
   "execution_count": 32,
   "metadata": {
    "collapsed": true
   },
   "outputs": [],
   "source": [
    "predictions.to_csv('Data/nonlagged_predictions.csv')"
   ]
  },
  {
   "cell_type": "markdown",
   "metadata": {},
   "source": [
    "# 8. BACKTESTING THE INVESTMENT STRATEGY"
   ]
  },
  {
   "cell_type": "markdown",
   "metadata": {},
   "source": [
    "Here we will compare the performance of a buy/sell strategy according to the predictions of opur model versus a simple buy and hold strategy."
   ]
  },
  {
   "cell_type": "code",
   "execution_count": 33,
   "metadata": {},
   "outputs": [],
   "source": [
    "import matplotlib as mpl\n",
    "#mpl.\n",
    "%matplotlib inline\n",
    "\n",
    "pd.set_option('display.max_rows', 10)"
   ]
  },
  {
   "cell_type": "markdown",
   "metadata": {},
   "source": [
    "We are going to backtest the strategy in the validation set, after some prerpocessing the data is the following:"
   ]
  },
  {
   "cell_type": "code",
   "execution_count": 34,
   "metadata": {},
   "outputs": [
    {
     "data": {
      "text/html": [
       "<div>\n",
       "<style>\n",
       "    .dataframe thead tr:only-child th {\n",
       "        text-align: right;\n",
       "    }\n",
       "\n",
       "    .dataframe thead th {\n",
       "        text-align: left;\n",
       "    }\n",
       "\n",
       "    .dataframe tbody tr th {\n",
       "        vertical-align: top;\n",
       "    }\n",
       "</style>\n",
       "<table border=\"1\" class=\"dataframe\">\n",
       "  <thead>\n",
       "    <tr style=\"text-align: right;\">\n",
       "      <th></th>\n",
       "      <th>date</th>\n",
       "      <th>close</th>\n",
       "      <th>predict</th>\n",
       "      <th>False</th>\n",
       "      <th>True</th>\n",
       "    </tr>\n",
       "  </thead>\n",
       "  <tbody>\n",
       "    <tr>\n",
       "      <th>0</th>\n",
       "      <td>2018-02-17</td>\n",
       "      <td>11049.000000</td>\n",
       "      <td>True</td>\n",
       "      <td>0.175136</td>\n",
       "      <td>0.824864</td>\n",
       "    </tr>\n",
       "    <tr>\n",
       "      <th>1</th>\n",
       "      <td>2018-02-18</td>\n",
       "      <td>10379.000000</td>\n",
       "      <td>True</td>\n",
       "      <td>0.062958</td>\n",
       "      <td>0.937042</td>\n",
       "    </tr>\n",
       "    <tr>\n",
       "      <th>2</th>\n",
       "      <td>2018-02-19</td>\n",
       "      <td>11156.000000</td>\n",
       "      <td>True</td>\n",
       "      <td>0.145614</td>\n",
       "      <td>0.854386</td>\n",
       "    </tr>\n",
       "    <tr>\n",
       "      <th>3</th>\n",
       "      <td>2018-02-20</td>\n",
       "      <td>11217.165085</td>\n",
       "      <td>True</td>\n",
       "      <td>0.323121</td>\n",
       "      <td>0.676879</td>\n",
       "    </tr>\n",
       "    <tr>\n",
       "      <th>4</th>\n",
       "      <td>2018-02-21</td>\n",
       "      <td>10441.060500</td>\n",
       "      <td>True</td>\n",
       "      <td>0.338793</td>\n",
       "      <td>0.661207</td>\n",
       "    </tr>\n",
       "    <tr>\n",
       "      <th>...</th>\n",
       "      <td>...</td>\n",
       "      <td>...</td>\n",
       "      <td>...</td>\n",
       "      <td>...</td>\n",
       "      <td>...</td>\n",
       "    </tr>\n",
       "    <tr>\n",
       "      <th>67</th>\n",
       "      <td>2018-04-25</td>\n",
       "      <td>8860.024074</td>\n",
       "      <td>True</td>\n",
       "      <td>0.349115</td>\n",
       "      <td>0.650885</td>\n",
       "    </tr>\n",
       "    <tr>\n",
       "      <th>68</th>\n",
       "      <td>2018-04-26</td>\n",
       "      <td>9286.000000</td>\n",
       "      <td>False</td>\n",
       "      <td>0.433633</td>\n",
       "      <td>0.566367</td>\n",
       "    </tr>\n",
       "    <tr>\n",
       "      <th>69</th>\n",
       "      <td>2018-04-27</td>\n",
       "      <td>8920.010000</td>\n",
       "      <td>True</td>\n",
       "      <td>0.359369</td>\n",
       "      <td>0.640631</td>\n",
       "    </tr>\n",
       "    <tr>\n",
       "      <th>70</th>\n",
       "      <td>2018-04-28</td>\n",
       "      <td>9330.761257</td>\n",
       "      <td>False</td>\n",
       "      <td>0.495186</td>\n",
       "      <td>0.504814</td>\n",
       "    </tr>\n",
       "    <tr>\n",
       "      <th>71</th>\n",
       "      <td>2018-04-29</td>\n",
       "      <td>9423.799996</td>\n",
       "      <td>True</td>\n",
       "      <td>0.402840</td>\n",
       "      <td>0.597160</td>\n",
       "    </tr>\n",
       "  </tbody>\n",
       "</table>\n",
       "<p>72 rows × 5 columns</p>\n",
       "</div>"
      ],
      "text/plain": [
       "          date         close  predict     False      True\n",
       "0   2018-02-17  11049.000000     True  0.175136  0.824864\n",
       "1   2018-02-18  10379.000000     True  0.062958  0.937042\n",
       "2   2018-02-19  11156.000000     True  0.145614  0.854386\n",
       "3   2018-02-20  11217.165085     True  0.323121  0.676879\n",
       "4   2018-02-21  10441.060500     True  0.338793  0.661207\n",
       "..         ...           ...      ...       ...       ...\n",
       "67  2018-04-25   8860.024074     True  0.349115  0.650885\n",
       "68  2018-04-26   9286.000000    False  0.433633  0.566367\n",
       "69  2018-04-27   8920.010000     True  0.359369  0.640631\n",
       "70  2018-04-28   9330.761257    False  0.495186  0.504814\n",
       "71  2018-04-29   9423.799996     True  0.402840  0.597160\n",
       "\n",
       "[72 rows x 5 columns]"
      ]
     },
     "execution_count": 34,
     "metadata": {},
     "output_type": "execute_result"
    }
   ],
   "source": [
    "data = pd.read_csv(\"Data/backtest_data.csv\")\n",
    "data"
   ]
  },
  {
   "cell_type": "markdown",
   "metadata": {},
   "source": [
    "And then we set the first closing price to a 100 and all the rest with respect to that:"
   ]
  },
  {
   "cell_type": "code",
   "execution_count": 35,
   "metadata": {},
   "outputs": [
    {
     "name": "stderr",
     "output_type": "stream",
     "text": [
      "C:\\Users\\Eric\\Anaconda3\\lib\\site-packages\\ipykernel_launcher.py:2: SettingWithCopyWarning: \n",
      "A value is trying to be set on a copy of a slice from a DataFrame.\n",
      "Try using .loc[row_indexer,col_indexer] = value instead\n",
      "\n",
      "See the caveats in the documentation: http://pandas.pydata.org/pandas-docs/stable/indexing.html#indexing-view-versus-copy\n",
      "  \n"
     ]
    },
    {
     "data": {
      "text/html": [
       "<div>\n",
       "<style>\n",
       "    .dataframe thead tr:only-child th {\n",
       "        text-align: right;\n",
       "    }\n",
       "\n",
       "    .dataframe thead th {\n",
       "        text-align: left;\n",
       "    }\n",
       "\n",
       "    .dataframe tbody tr th {\n",
       "        vertical-align: top;\n",
       "    }\n",
       "</style>\n",
       "<table border=\"1\" class=\"dataframe\">\n",
       "  <thead>\n",
       "    <tr style=\"text-align: right;\">\n",
       "      <th></th>\n",
       "      <th>close</th>\n",
       "      <th>predict</th>\n",
       "    </tr>\n",
       "  </thead>\n",
       "  <tbody>\n",
       "    <tr>\n",
       "      <th>0</th>\n",
       "      <td>100.000000</td>\n",
       "      <td>True</td>\n",
       "    </tr>\n",
       "    <tr>\n",
       "      <th>1</th>\n",
       "      <td>93.936103</td>\n",
       "      <td>True</td>\n",
       "    </tr>\n",
       "    <tr>\n",
       "      <th>2</th>\n",
       "      <td>100.968413</td>\n",
       "      <td>True</td>\n",
       "    </tr>\n",
       "    <tr>\n",
       "      <th>3</th>\n",
       "      <td>101.521994</td>\n",
       "      <td>True</td>\n",
       "    </tr>\n",
       "    <tr>\n",
       "      <th>4</th>\n",
       "      <td>94.497787</td>\n",
       "      <td>True</td>\n",
       "    </tr>\n",
       "    <tr>\n",
       "      <th>...</th>\n",
       "      <td>...</td>\n",
       "      <td>...</td>\n",
       "    </tr>\n",
       "    <tr>\n",
       "      <th>67</th>\n",
       "      <td>80.188470</td>\n",
       "      <td>True</td>\n",
       "    </tr>\n",
       "    <tr>\n",
       "      <th>68</th>\n",
       "      <td>84.043805</td>\n",
       "      <td>False</td>\n",
       "    </tr>\n",
       "    <tr>\n",
       "      <th>69</th>\n",
       "      <td>80.731378</td>\n",
       "      <td>True</td>\n",
       "    </tr>\n",
       "    <tr>\n",
       "      <th>70</th>\n",
       "      <td>84.448921</td>\n",
       "      <td>False</td>\n",
       "    </tr>\n",
       "    <tr>\n",
       "      <th>71</th>\n",
       "      <td>85.290977</td>\n",
       "      <td>True</td>\n",
       "    </tr>\n",
       "  </tbody>\n",
       "</table>\n",
       "<p>72 rows × 2 columns</p>\n",
       "</div>"
      ],
      "text/plain": [
       "         close  predict\n",
       "0   100.000000     True\n",
       "1    93.936103     True\n",
       "2   100.968413     True\n",
       "3   101.521994     True\n",
       "4    94.497787     True\n",
       "..         ...      ...\n",
       "67   80.188470     True\n",
       "68   84.043805    False\n",
       "69   80.731378     True\n",
       "70   84.448921    False\n",
       "71   85.290977     True\n",
       "\n",
       "[72 rows x 2 columns]"
      ]
     },
     "execution_count": 35,
     "metadata": {},
     "output_type": "execute_result"
    }
   ],
   "source": [
    "btc_price = data[[\"close\",\"predict\"]]\n",
    "btc_price[\"close\"] = btc_price[\"close\"].rebase(100)\n",
    "btc_price"
   ]
  },
  {
   "cell_type": "code",
   "execution_count": null,
   "metadata": {
    "collapsed": true
   },
   "outputs": [],
   "source": [
    "And we implement the strategy based on the bitcoin"
   ]
  },
  {
   "cell_type": "code",
   "execution_count": 36,
   "metadata": {
    "collapsed": true
   },
   "outputs": [],
   "source": [
    "btc_returns = btc_price.copy()\n",
    "btc_returns[\"returns\"] = btc_returns[\"close\"].pct_change()\n",
    "btc_returns[\"returns\"] = btc_returns[\"returns\"] #.shift(-1)\n",
    "#btc_returns[\"strategy\"] = btc_returns[\"close\"]\n",
    "#btc_returns[\"strategy\"].loc[data[[\"predict\"]] == False, btc_returns[\"strategy\"]] = 0\n",
    "btc_returns[\"strategy_returns\"] = btc_returns[\"returns\"]\n",
    "btc_returns.loc[btc_returns[\"predict\"] == False, \"strategy_returns\"] = 0"
   ]
  },
  {
   "cell_type": "code",
   "execution_count": 37,
   "metadata": {},
   "outputs": [],
   "source": [
    "btc_returns[\"strategy_close\"] = btc_returns[\"close\"]\n",
    "btc_returns[\"strategy_close\"] = 100 * np.cumprod(btc_returns[\"strategy_returns\"] + 1)"
   ]
  },
  {
   "cell_type": "code",
   "execution_count": 38,
   "metadata": {},
   "outputs": [
    {
     "data": {
      "text/html": [
       "<div>\n",
       "<style>\n",
       "    .dataframe thead tr:only-child th {\n",
       "        text-align: right;\n",
       "    }\n",
       "\n",
       "    .dataframe thead th {\n",
       "        text-align: left;\n",
       "    }\n",
       "\n",
       "    .dataframe tbody tr th {\n",
       "        vertical-align: top;\n",
       "    }\n",
       "</style>\n",
       "<table border=\"1\" class=\"dataframe\">\n",
       "  <thead>\n",
       "    <tr style=\"text-align: right;\">\n",
       "      <th></th>\n",
       "      <th>close</th>\n",
       "      <th>predict</th>\n",
       "      <th>returns</th>\n",
       "      <th>strategy_returns</th>\n",
       "      <th>strategy_close</th>\n",
       "    </tr>\n",
       "  </thead>\n",
       "  <tbody>\n",
       "    <tr>\n",
       "      <th>0</th>\n",
       "      <td>100.000000</td>\n",
       "      <td>True</td>\n",
       "      <td>NaN</td>\n",
       "      <td>NaN</td>\n",
       "      <td>NaN</td>\n",
       "    </tr>\n",
       "    <tr>\n",
       "      <th>1</th>\n",
       "      <td>93.936103</td>\n",
       "      <td>True</td>\n",
       "      <td>-0.060639</td>\n",
       "      <td>-0.060639</td>\n",
       "      <td>93.936103</td>\n",
       "    </tr>\n",
       "    <tr>\n",
       "      <th>2</th>\n",
       "      <td>100.968413</td>\n",
       "      <td>True</td>\n",
       "      <td>0.074863</td>\n",
       "      <td>0.074863</td>\n",
       "      <td>100.968413</td>\n",
       "    </tr>\n",
       "    <tr>\n",
       "      <th>3</th>\n",
       "      <td>101.521994</td>\n",
       "      <td>True</td>\n",
       "      <td>0.005483</td>\n",
       "      <td>0.005483</td>\n",
       "      <td>101.521994</td>\n",
       "    </tr>\n",
       "    <tr>\n",
       "      <th>4</th>\n",
       "      <td>94.497787</td>\n",
       "      <td>True</td>\n",
       "      <td>-0.069189</td>\n",
       "      <td>-0.069189</td>\n",
       "      <td>94.497787</td>\n",
       "    </tr>\n",
       "    <tr>\n",
       "      <th>...</th>\n",
       "      <td>...</td>\n",
       "      <td>...</td>\n",
       "      <td>...</td>\n",
       "      <td>...</td>\n",
       "      <td>...</td>\n",
       "    </tr>\n",
       "    <tr>\n",
       "      <th>67</th>\n",
       "      <td>80.188470</td>\n",
       "      <td>True</td>\n",
       "      <td>-0.080303</td>\n",
       "      <td>-0.080303</td>\n",
       "      <td>91.236169</td>\n",
       "    </tr>\n",
       "    <tr>\n",
       "      <th>68</th>\n",
       "      <td>84.043805</td>\n",
       "      <td>False</td>\n",
       "      <td>0.048078</td>\n",
       "      <td>0.000000</td>\n",
       "      <td>91.236169</td>\n",
       "    </tr>\n",
       "    <tr>\n",
       "      <th>69</th>\n",
       "      <td>80.731378</td>\n",
       "      <td>True</td>\n",
       "      <td>-0.039413</td>\n",
       "      <td>-0.039413</td>\n",
       "      <td>87.640269</td>\n",
       "    </tr>\n",
       "    <tr>\n",
       "      <th>70</th>\n",
       "      <td>84.448921</td>\n",
       "      <td>False</td>\n",
       "      <td>0.046048</td>\n",
       "      <td>0.000000</td>\n",
       "      <td>87.640269</td>\n",
       "    </tr>\n",
       "    <tr>\n",
       "      <th>71</th>\n",
       "      <td>85.290977</td>\n",
       "      <td>True</td>\n",
       "      <td>0.009971</td>\n",
       "      <td>0.009971</td>\n",
       "      <td>88.514147</td>\n",
       "    </tr>\n",
       "  </tbody>\n",
       "</table>\n",
       "<p>72 rows × 5 columns</p>\n",
       "</div>"
      ],
      "text/plain": [
       "         close  predict   returns  strategy_returns  strategy_close\n",
       "0   100.000000     True       NaN               NaN             NaN\n",
       "1    93.936103     True -0.060639         -0.060639       93.936103\n",
       "2   100.968413     True  0.074863          0.074863      100.968413\n",
       "3   101.521994     True  0.005483          0.005483      101.521994\n",
       "4    94.497787     True -0.069189         -0.069189       94.497787\n",
       "..         ...      ...       ...               ...             ...\n",
       "67   80.188470     True -0.080303         -0.080303       91.236169\n",
       "68   84.043805    False  0.048078          0.000000       91.236169\n",
       "69   80.731378     True -0.039413         -0.039413       87.640269\n",
       "70   84.448921    False  0.046048          0.000000       87.640269\n",
       "71   85.290977     True  0.009971          0.009971       88.514147\n",
       "\n",
       "[72 rows x 5 columns]"
      ]
     },
     "execution_count": 38,
     "metadata": {},
     "output_type": "execute_result"
    }
   ],
   "source": [
    "btc_returns"
   ]
  },
  {
   "cell_type": "code",
   "execution_count": 39,
   "metadata": {},
   "outputs": [
    {
     "data": {
      "text/plain": [
       "<matplotlib.axes._subplots.AxesSubplot at 0x130f7d5aa20>"
      ]
     },
     "execution_count": 39,
     "metadata": {},
     "output_type": "execute_result"
    },
    {
     "data": {
      "image/png": "[encoded data removed]",
      "text/plain": [
       "<matplotlib.figure.Figure at 0x130f7a1fc50>"
      ]
     },
     "metadata": {},
     "output_type": "display_data"
    }
   ],
   "source": [
    "btc_returns[[\"close\",\"strategy_close\"]].plot(figsize = (15,9))"
   ]
  }
 ],
 "metadata": {
  "kernelspec": {
   "display_name": "Python 3",
   "language": "python",
   "name": "python3"
  },
  "language_info": {
   "codemirror_mode": {
    "name": "ipython",
    "version": 3
   },
   "file_extension": ".py",
   "mimetype": "text/x-python",
   "name": "python",
   "nbconvert_exporter": "python",
   "pygments_lexer": "ipython3",
   "version": "3.6.2"
  }
 },
 "nbformat": 4,
 "nbformat_minor": 2
}
