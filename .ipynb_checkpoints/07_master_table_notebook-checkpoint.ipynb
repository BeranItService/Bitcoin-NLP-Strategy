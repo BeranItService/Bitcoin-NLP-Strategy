{
 "cells": [
  {
   "cell_type": "markdown",
   "metadata": {},
   "source": [
    "# Master table creation\n",
    "In this notebook we aggregate all the previously downloaded data and the sentiment analysis done on the different data sources."
   ]
  },
  {
   "cell_type": "code",
   "execution_count": 1,
   "metadata": {
    "collapsed": true
   },
   "outputs": [],
   "source": [
    "# Load the needed packages:\n",
    "import sys\n",
    "import numpy as np\n",
    "import pandas as pd\n",
    "import matplotlib.pyplot as plt\n",
    "import datetime\n",
    "%matplotlib inline"
   ]
  },
  {
   "cell_type": "markdown",
   "metadata": {
    "collapsed": true
   },
   "source": [
    "## 1.0 Load data and create a Mastertable"
   ]
  },
  {
   "cell_type": "code",
   "execution_count": 2,
   "metadata": {
    "collapsed": true
   },
   "outputs": [],
   "source": [
    "# Load CSV files:\n",
    "poloniex = pd.read_csv(\"Data/poloniex_data.csv\")\n",
    "ggtrends = pd.read_csv(\"Data/google_trends.csv\", index_col=0)\n",
    "twitter = pd.read_csv(\"Data/twitter_agg_ddb.csv\")\n",
    "reddit = pd.read_csv(\"Data/allreddit_nlp.csv\", index_col=0)\n",
    "forum = pd.read_csv(\"Data/merit_compound.csv\", index_col=0)"
   ]
  },
  {
   "cell_type": "code",
   "execution_count": 3,
   "metadata": {
    "collapsed": true
   },
   "outputs": [],
   "source": [
    "# A bit of preprocessing:\n",
    "# REDDIT:\n",
    "reddit = reddit.rename(columns={'date_notime': 'date', 'count_comments': 'Reddit Comments (#)', 'mean_sa': 'Reddit Average SA'})\n",
    "# TWITTER:\n",
    "twitter = twitter.rename(columns={'created_at': 'date','Average SA': 'Twitter Average SA'})\n",
    "twitter['date'] =  pd.to_datetime(twitter['date'], format='%Y%m%d %H:%M:%S')\n",
    "twitter['date'] = twitter['date'].dt.date\n",
    "twitter['date'] = twitter['date'].apply(str)\n",
    "\n",
    "# FORUM:\n",
    "forum = forum.rename(columns={'newdate': 'date', 'compound': 'Forum SA Merit', 'merit_compound': 'Forum SA Merit (weighted)'})"
   ]
  },
  {
   "cell_type": "code",
   "execution_count": 4,
   "metadata": {
    "collapsed": true
   },
   "outputs": [],
   "source": [
    "# Merge the datasets into one Master Table:\n",
    "master = pd.merge(poloniex, ggtrends, how = 'inner', on = 'date')\n",
    "master = pd.merge(master, twitter, how = 'outer', on = 'date')\n",
    "master = pd.merge(master, forum, how = 'inner', on = 'date')\n",
    "master = pd.merge(master, reddit, how = 'inner', on = 'date')"
   ]
  },
  {
   "cell_type": "code",
   "execution_count": 5,
   "metadata": {
    "collapsed": true
   },
   "outputs": [],
   "source": [
    "# Create the UP/DOWN class:\n",
    "master['invest'] = master['return_day+1']>0"
   ]
  },
  {
   "cell_type": "code",
   "execution_count": 6,
   "metadata": {},
   "outputs": [],
   "source": [
    "pd.DataFrame.to_csv(master, 'Data/20180920_mastertable.csv')"
   ]
  },
  {
   "cell_type": "code",
   "execution_count": 7,
   "metadata": {},
   "outputs": [
    {
     "data": {
      "text/html": [
       "<div>\n",
       "<style>\n",
       "    .dataframe thead tr:only-child th {\n",
       "        text-align: right;\n",
       "    }\n",
       "\n",
       "    .dataframe thead th {\n",
       "        text-align: left;\n",
       "    }\n",
       "\n",
       "    .dataframe tbody tr th {\n",
       "        vertical-align: top;\n",
       "    }\n",
       "</style>\n",
       "<table border=\"1\" class=\"dataframe\">\n",
       "  <thead>\n",
       "    <tr style=\"text-align: right;\">\n",
       "      <th></th>\n",
       "      <th>date</th>\n",
       "      <th>return_day+1</th>\n",
       "      <th>close</th>\n",
       "      <th>volume</th>\n",
       "      <th>volatility_14</th>\n",
       "      <th>googletrends_buy_sell</th>\n",
       "      <th>Tweets (#)</th>\n",
       "      <th>Active Influencers (#)</th>\n",
       "      <th>Twitter Average SA</th>\n",
       "      <th>Forum SA Merit</th>\n",
       "      <th>Forum SA Merit (weighted)</th>\n",
       "      <th>Reddit Comments (#)</th>\n",
       "      <th>Reddit Average SA</th>\n",
       "      <th>invest</th>\n",
       "    </tr>\n",
       "  </thead>\n",
       "  <tbody>\n",
       "    <tr>\n",
       "      <th>0</th>\n",
       "      <td>2017-05-01</td>\n",
       "      <td>0.020854</td>\n",
       "      <td>1530.000000</td>\n",
       "      <td>2.003840e+07</td>\n",
       "      <td>0.020241</td>\n",
       "      <td>0.857143</td>\n",
       "      <td>NaN</td>\n",
       "      <td>NaN</td>\n",
       "      <td>NaN</td>\n",
       "      <td>0.363063</td>\n",
       "      <td>170.581733</td>\n",
       "      <td>1262</td>\n",
       "      <td>0.100726</td>\n",
       "      <td>True</td>\n",
       "    </tr>\n",
       "    <tr>\n",
       "      <th>1</th>\n",
       "      <td>2017-05-02</td>\n",
       "      <td>0.034389</td>\n",
       "      <td>1561.907000</td>\n",
       "      <td>1.157105e+07</td>\n",
       "      <td>0.020173</td>\n",
       "      <td>0.857143</td>\n",
       "      <td>105.0</td>\n",
       "      <td>25.0</td>\n",
       "      <td>0.156365</td>\n",
       "      <td>0.324900</td>\n",
       "      <td>163.314061</td>\n",
       "      <td>1600</td>\n",
       "      <td>0.108506</td>\n",
       "      <td>True</td>\n",
       "    </tr>\n",
       "    <tr>\n",
       "      <th>2</th>\n",
       "      <td>2017-05-03</td>\n",
       "      <td>-0.007255</td>\n",
       "      <td>1615.620000</td>\n",
       "      <td>1.506086e+07</td>\n",
       "      <td>0.019967</td>\n",
       "      <td>0.904762</td>\n",
       "      <td>86.0</td>\n",
       "      <td>30.0</td>\n",
       "      <td>0.207976</td>\n",
       "      <td>0.359885</td>\n",
       "      <td>177.341913</td>\n",
       "      <td>1353</td>\n",
       "      <td>0.110652</td>\n",
       "      <td>False</td>\n",
       "    </tr>\n",
       "    <tr>\n",
       "      <th>3</th>\n",
       "      <td>2017-05-04</td>\n",
       "      <td>-0.037720</td>\n",
       "      <td>1603.898572</td>\n",
       "      <td>2.632924e+07</td>\n",
       "      <td>0.020404</td>\n",
       "      <td>0.851852</td>\n",
       "      <td>111.0</td>\n",
       "      <td>27.0</td>\n",
       "      <td>0.152614</td>\n",
       "      <td>0.380796</td>\n",
       "      <td>190.054485</td>\n",
       "      <td>1766</td>\n",
       "      <td>0.102435</td>\n",
       "      <td>False</td>\n",
       "    </tr>\n",
       "    <tr>\n",
       "      <th>4</th>\n",
       "      <td>2017-05-05</td>\n",
       "      <td>0.035510</td>\n",
       "      <td>1543.400000</td>\n",
       "      <td>3.239718e+07</td>\n",
       "      <td>0.024767</td>\n",
       "      <td>0.833333</td>\n",
       "      <td>75.0</td>\n",
       "      <td>28.0</td>\n",
       "      <td>0.117646</td>\n",
       "      <td>0.381558</td>\n",
       "      <td>158.822512</td>\n",
       "      <td>1689</td>\n",
       "      <td>0.099547</td>\n",
       "      <td>True</td>\n",
       "    </tr>\n",
       "  </tbody>\n",
       "</table>\n",
       "</div>"
      ],
      "text/plain": [
       "         date  return_day+1        close        volume  volatility_14  \\\n",
       "0  2017-05-01      0.020854  1530.000000  2.003840e+07       0.020241   \n",
       "1  2017-05-02      0.034389  1561.907000  1.157105e+07       0.020173   \n",
       "2  2017-05-03     -0.007255  1615.620000  1.506086e+07       0.019967   \n",
       "3  2017-05-04     -0.037720  1603.898572  2.632924e+07       0.020404   \n",
       "4  2017-05-05      0.035510  1543.400000  3.239718e+07       0.024767   \n",
       "\n",
       "   googletrends_buy_sell  Tweets (#)  Active Influencers (#)  \\\n",
       "0               0.857143         NaN                     NaN   \n",
       "1               0.857143       105.0                    25.0   \n",
       "2               0.904762        86.0                    30.0   \n",
       "3               0.851852       111.0                    27.0   \n",
       "4               0.833333        75.0                    28.0   \n",
       "\n",
       "   Twitter Average SA  Forum SA Merit  Forum SA Merit (weighted)  \\\n",
       "0                 NaN        0.363063                 170.581733   \n",
       "1            0.156365        0.324900                 163.314061   \n",
       "2            0.207976        0.359885                 177.341913   \n",
       "3            0.152614        0.380796                 190.054485   \n",
       "4            0.117646        0.381558                 158.822512   \n",
       "\n",
       "   Reddit Comments (#)  Reddit Average SA  invest  \n",
       "0                 1262           0.100726    True  \n",
       "1                 1600           0.108506    True  \n",
       "2                 1353           0.110652   False  \n",
       "3                 1766           0.102435   False  \n",
       "4                 1689           0.099547    True  "
      ]
     },
     "execution_count": 7,
     "metadata": {},
     "output_type": "execute_result"
    }
   ],
   "source": [
    "master.head(5)"
   ]
  },
  {
   "cell_type": "code",
   "execution_count": null,
   "metadata": {
    "collapsed": true
   },
   "outputs": [],
   "source": []
  }
 ],
 "metadata": {
  "kernelspec": {
   "display_name": "Python 3",
   "language": "python",
   "name": "python3"
  },
  "language_info": {
   "codemirror_mode": {
    "name": "ipython",
    "version": 3
   },
   "file_extension": ".py",
   "mimetype": "text/x-python",
   "name": "python",
   "nbconvert_exporter": "python",
   "pygments_lexer": "ipython3",
   "version": "3.6.2"
  }
 },
 "nbformat": 4,
 "nbformat_minor": 2
}
